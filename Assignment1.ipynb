{
  "nbformat": 4,
  "nbformat_minor": 0,
  "metadata": {
    "colab": {
      "provenance": [],
      "authorship_tag": "ABX9TyOKgYiQKVsS4m53A+TO66/w",
      "include_colab_link": true
    },
    "kernelspec": {
      "name": "python3",
      "display_name": "Python 3"
    },
    "language_info": {
      "name": "python"
    }
  },
  "cells": [
    {
      "cell_type": "markdown",
      "metadata": {
        "id": "view-in-github",
        "colab_type": "text"
      },
      "source": [
        "<a href=\"https://colab.research.google.com/github/Aniqa555/Assignment/blob/main/Assignment1.ipynb\" target=\"_parent\"><img src=\"https://colab.research.google.com/assets/colab-badge.svg\" alt=\"Open In Colab\"/></a>"
      ]
    },
    {
      "cell_type": "code",
      "execution_count": null,
      "metadata": {
        "id": "YlKP00mhkqBl"
      },
      "outputs": [],
      "source": [
        "#1. Explain the key features of Python that make it a popular choice for programming\n",
        "\n",
        "#ans- Python is easy to understand and read due to its simple syntax. it has numerous libraries making python used widely across industries. it is used in programmin, data analyis.etc. It is versatile and has a large community.\n",
        "\n",
        "\n"
      ]
    },
    {
      "cell_type": "code",
      "source": [
        "#2. Describe the role of predefined keywords in Python and provide examples of how they are used in a program\n",
        "# ans- Predefined keywords in Python are special reserved words that have specific meanings and functions in the language. They help define the structure and flow of a program, allowing you to perform essential tasks like making decisions (if, else), looping (for, while), defining functions (def), and managing exceptions (try, except). Because these keywords are reserved, you can’t use them as variable names or identifiers. They act as the building blocks of Python’s syntax, making code easier to understand and ensuring that Python’s rules and structure are followed."
      ],
      "metadata": {
        "id": "AEadrYMnk7CA"
      },
      "execution_count": null,
      "outputs": []
    },
    {
      "cell_type": "code",
      "source": [
        "#3.Compare and contrast mutable and immutable objects in Python with examples.\n",
        "\n",
        "# ans. In Python Mutable Objects can be modified after creation. Examples include lists, dictionaries, and sets. For eg- a list my_list = [1, 2, 3] can be changed by adding, removing or altering its elements (eg-  my_list.append(4) makes it [1, 2, 3, 4]) and These cannot be modified once created. Ex- include integers, strings, and tuples. For eg- if you have my_string = \"hello\", trying to change a character (like my_string[0] = \"H\") will result in an error. It will remains unchanged."
      ],
      "metadata": {
        "id": "GcWK44b2lcCN"
      },
      "execution_count": null,
      "outputs": []
    },
    {
      "cell_type": "code",
      "source": [
        "#4.Discuss the different types of operators in Python and provide examples of how they are used.\n",
        "#ans- Python has several types of operators that perform different functions in expressions. Arithmetic operators like +, -, *, and / are used for basic math; for example, 5 + 3 results in 8. Comparison operators such as ==, !=, >, and < help compare values, returning True or False (e.g., 5 > 3 is True). Logical operators (and, or, not) combine conditional statements, like (5 > 3) and (3 < 4), which is True. Assignment operators (=, +=, -=) assign values to variables, so x += 5 adds 5 to x. Bitwise operators ( &, |) work at the binary level for tasks like bit manipulation, while membership (in, not in) and identity operators (is, is not) check for membership in collections and object identity, respectively. These operators make Python versatile for performing a wide range of operations within code."
      ],
      "metadata": {
        "id": "ZshRFmXkma90"
      },
      "execution_count": null,
      "outputs": []
    },
    {
      "cell_type": "code",
      "source": [
        "#5.Explain the concept of type casting in Python with examples\n",
        "#Ans- Type casting in Python is converting one data type to another. There are two main ways to cast types in Python explicit and implicit. Explicit Casting: You manually convert types using functions like int(), float(), str(), etc. eg- to convert a string to an integer, int(\"5\") becomes 5. Similarly, float(10) converts the integer 10 to 10.0. Implicit Casting: Python automatically converts types when it’s safe to do so. For eg- if you add an integer and a float (5 + 2.0), Python will convert 5 to 5.0 automatically, giving 7.0 as the result."
      ],
      "metadata": {
        "id": "86B1mAL3nF4V"
      },
      "execution_count": null,
      "outputs": []
    },
    {
      "cell_type": "code",
      "source": [
        "#6-How do conditional statements work in Python? Illustrate with examples\n",
        "\n",
        "#ans- Conditional statements in Python, like if, elif, and else, control the flow of a program by allowing it to make decisions based on conditions. If a specified condition evaluates as True, the corresponding block of code runs; if False, it skips to the next condition or block\n",
        "age = 18\n",
        "if age >= 18:\n",
        "    print(\"You are an adult\")\n",
        "elif age >= 13:\n",
        "    print(\"You are a teen\")\n",
        "else:\n",
        "    print(\"You are a child\")\n",
        "\n",
        "#if age is 18 or more it prints \"You are an adult\" If not it checks if age is at least 13 then prints \"You are a teen\"; otherwise, it prints \"You are a child\"\n"
      ],
      "metadata": {
        "colab": {
          "base_uri": "https://localhost:8080/"
        },
        "id": "x1mA7pX6no4Z",
        "outputId": "4e955f15-02b1-4b12-8aba-3fb340eb2e21"
      },
      "execution_count": null,
      "outputs": [
        {
          "output_type": "stream",
          "name": "stdout",
          "text": [
            "You are an adult\n"
          ]
        }
      ]
    },
    {
      "cell_type": "code",
      "source": [
        "#7.Describe the different types of loops in Python and their use cases with examples\n",
        "#Python has two main types of loops: for and while. each suited to different use cases. A for loop iterates over a sequence ( list, tuple, or string) or range of numbers, executing a block of code for each item. It's ideal for cases where the number of iterations is known such as printing items in a list.\n",
        "#for eg-\n",
        "fruits = [\"apple\", \"banana\", \"cherry\"]\n",
        "for fruit in fruits:\n",
        "    print(fruit)\n",
        "#A while loop, on the other hand, runs as long as a specified condition is True. This makes it useful for cases where the loop should continue until a condition changes like prompting a user for input until they enter the correct password.\n",
        "#eg- while loop keeps running until a condition is no longer met. we will count down from a number until we reach zero.\n",
        "countdown = 5\n",
        "while countdown > 0:\n",
        "    print(countdown)\n",
        "    countdown -= 1\n",
        "print(\"Blast off!\")"
      ],
      "metadata": {
        "colab": {
          "base_uri": "https://localhost:8080/"
        },
        "id": "1YIEcfm6oean",
        "outputId": "5845b3ce-7ee6-4614-8e40-81c52ea5f653"
      },
      "execution_count": null,
      "outputs": [
        {
          "output_type": "stream",
          "name": "stdout",
          "text": [
            "apple\n",
            "banana\n",
            "cherry\n",
            "5\n",
            "4\n",
            "3\n",
            "2\n",
            "1\n",
            "Blast off!\n"
          ]
        }
      ]
    }
  ]
}