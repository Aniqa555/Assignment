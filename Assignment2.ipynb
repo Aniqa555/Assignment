{
  "nbformat": 4,
  "nbformat_minor": 0,
  "metadata": {
    "colab": {
      "provenance": [],
      "authorship_tag": "ABX9TyOabQo6W06lBaacqObJKkzC",
      "include_colab_link": true
    },
    "kernelspec": {
      "name": "python3",
      "display_name": "Python 3"
    },
    "language_info": {
      "name": "python"
    }
  },
  "cells": [
    {
      "cell_type": "markdown",
      "metadata": {
        "id": "view-in-github",
        "colab_type": "text"
      },
      "source": [
        "<a href=\"https://colab.research.google.com/github/Aniqa555/Assignment/blob/main/Assignment2.ipynb\" target=\"_parent\"><img src=\"https://colab.research.google.com/assets/colab-badge.svg\" alt=\"Open In Colab\"/></a>"
      ]
    },
    {
      "cell_type": "code",
      "execution_count": 5,
      "metadata": {
        "colab": {
          "base_uri": "https://localhost:8080/"
        },
        "id": "SaEUcPHD6p2K",
        "outputId": "46776b6f-62b2-4494-b817-6986a256f991"
      },
      "outputs": [
        {
          "output_type": "stream",
          "name": "stdout",
          "text": [
            "aqinA\n"
          ]
        }
      ],
      "source": [
        "#1 Write a code to reverse a string\u0012\n",
        "s=\"Aniqa\"\n",
        "s1= s[::-1]\n",
        "print (s1)\n"
      ]
    },
    {
      "cell_type": "code",
      "source": [
        "#2 Write a code to count the number of vowels in a string\n",
        "\n",
        "s=input()\n",
        "vowels= \"AEIOUaeiou\"\n",
        "count=0\n",
        "for char in s:\n",
        "    if char in vowels:\n",
        "        count+=1\n",
        "print(count)\n",
        "\n",
        "\n"
      ],
      "metadata": {
        "colab": {
          "base_uri": "https://localhost:8080/"
        },
        "id": "xU-dD5K37bug",
        "outputId": "8995ca8c-c423-48cf-8d46-ddf71ffbcaff"
      },
      "execution_count": 25,
      "outputs": [
        {
          "output_type": "stream",
          "name": "stdout",
          "text": [
            "aniqa\n",
            "3\n"
          ]
        }
      ]
    },
    {
      "cell_type": "code",
      "source": [
        "#3 Write a code to check if a given string is a palindrome or not\n",
        "s=input()\n",
        "s1=s[::-1]\n",
        "if s==s1:\n",
        "    print(\"palindrome\")\n",
        "else:\n",
        "    print(\"not palindrome\")"
      ],
      "metadata": {
        "colab": {
          "base_uri": "https://localhost:8080/"
        },
        "id": "ROcalLKB_TYQ",
        "outputId": "761ed437-b824-4ff4-f472-a0edb767d2e0"
      },
      "execution_count": 27,
      "outputs": [
        {
          "output_type": "stream",
          "name": "stdout",
          "text": [
            "sallas\n",
            "palindrome\n"
          ]
        }
      ]
    },
    {
      "cell_type": "code",
      "source": [
        "#4 Write a code to check if two given strings are anagrams of each other\n",
        "\n",
        "s1=input()\n",
        "s2=input()\n",
        "s1_clean=s1.lower()\n",
        "s2_clean=s2.lower()\n",
        "\n",
        "if (sorted(s1_clean)==sorted(s2_clean)):\n",
        "    print(\"anagrams\")\n",
        "else:\n",
        "    print(\"not anagrams\")"
      ],
      "metadata": {
        "colab": {
          "base_uri": "https://localhost:8080/"
        },
        "id": "rSiwee1pCky7",
        "outputId": "88667861-4da0-4ef1-dad0-910d9886463c"
      },
      "execution_count": 31,
      "outputs": [
        {
          "output_type": "stream",
          "name": "stdout",
          "text": [
            "evil\n",
            "vile\n",
            "anagrams\n"
          ]
        }
      ]
    },
    {
      "cell_type": "code",
      "source": [
        "#5 Write a code to find all occurrences of a given substring within another string\n",
        "\n",
        "s=input()\n",
        "ss=input()\n",
        "if(ss in s):\n",
        "    print(\"found\")\n",
        "else:\n",
        "    print(\"not found\")\n"
      ],
      "metadata": {
        "colab": {
          "base_uri": "https://localhost:8080/"
        },
        "id": "yOxW08JpDxy3",
        "outputId": "66fe9f7c-5b77-4a7e-f857-890a3ebb2c19"
      },
      "execution_count": 32,
      "outputs": [
        {
          "output_type": "stream",
          "name": "stdout",
          "text": [
            "My name is aniqa\n",
            "aniqa\n",
            "found\n"
          ]
        }
      ]
    },
    {
      "cell_type": "code",
      "source": [
        " #6 Write a code to perform basic string compression using the counts of repeated characters\n",
        "\n",
        "s=input(\"Enter a String \")\n",
        "count=1\n",
        "compressed_string=\"\"\n",
        "for i in range(1,len(s)):\n",
        "    if s[i]==s[i-1]:\n",
        "      count=count+1\n",
        "    else:\n",
        "      compressed_string=compressed_string+s[i-1]+str(count)\n",
        "      count=1\n",
        "\n",
        "compressed_string=compressed_string+s[-1]+str(count)\n",
        "print(compressed_string)"
      ],
      "metadata": {
        "colab": {
          "base_uri": "https://localhost:8080/"
        },
        "id": "rhhTW9T5FgjY",
        "outputId": "3f38834d-a429-4117-fd4c-8df2c1dbd3ed"
      },
      "execution_count": 37,
      "outputs": [
        {
          "output_type": "stream",
          "name": "stdout",
          "text": [
            "Enter a String aakkksssuuuu\n",
            "a2k3s3u4\n"
          ]
        }
      ]
    },
    {
      "cell_type": "code",
      "source": [
        "#7. Write a code to determine if a string has all unique characters\n",
        "s=s.input(\"Please enter the string \")\n",
        "for i in range(0,len(s)):\n",
        "\n",
        "    for j in range(i+1,len(s)):\n",
        "        if(s[i]==s[j]):\n",
        "            print(\"not unique\")\n",
        "            break\n",
        "    else:\n",
        "        print(\"unique\")"
      ],
      "metadata": {
        "id": "UWCj2Sr3LePC"
      },
      "execution_count": null,
      "outputs": []
    },
    {
      "cell_type": "code",
      "source": [
        "#8. Write a code to convert a given string to uppercase or lowercase\n",
        "\n",
        "s=input(\"Please enter the string \")\n",
        "print(s.upper())\n",
        "print(s.lower())"
      ],
      "metadata": {
        "id": "UjjmXvcmD2OD"
      },
      "execution_count": null,
      "outputs": []
    },
    {
      "cell_type": "code",
      "source": [
        "#9. Write a code to count the number of words in a string\n",
        "\n",
        "S=input(\"Please enter the string \")\n",
        "count=1\n",
        "for i in range(0,len(S)):\n",
        "\n",
        "    if(S[i]==\" \"):\n",
        "        count=count+1\n",
        "print(count)\n",
        "\n"
      ],
      "metadata": {
        "colab": {
          "base_uri": "https://localhost:8080/"
        },
        "id": "jtn3OQtsESma",
        "outputId": "b628f656-c1b6-4cee-ad49-b87f02a4c985"
      },
      "execution_count": 6,
      "outputs": [
        {
          "output_type": "stream",
          "name": "stdout",
          "text": [
            "Please enter the string help me with coding please\n",
            "5\n"
          ]
        }
      ]
    },
    {
      "cell_type": "code",
      "source": [
        "#10. Write a code to concatenate two strings without using the + operator\n",
        "\n",
        "s=input(\"Please enter the string \")\n",
        "s1=input(\"Please enter the string \")\n",
        "result = f\"{s}{s1}\"\n",
        "print(result)\n"
      ],
      "metadata": {
        "colab": {
          "base_uri": "https://localhost:8080/"
        },
        "id": "lOJt9E7YFf4L",
        "outputId": "9142a4e5-6d04-49df-eaf9-fd0b67a45c19"
      },
      "execution_count": 7,
      "outputs": [
        {
          "output_type": "stream",
          "name": "stdout",
          "text": [
            "Please enter the string Aniqa \n",
            "Please enter the string Hussain\n",
            "Aniqa Hussain\n"
          ]
        }
      ]
    },
    {
      "cell_type": "code",
      "source": [],
      "metadata": {
        "id": "8apBQU8aHVXU"
      },
      "execution_count": null,
      "outputs": []
    },
    {
      "cell_type": "code",
      "source": [
        "#11. Write a code to remove all occurrences of a specific element from a list\u0012\n",
        "lis = [1, 2, 3, 4, 5,9, 6, 7, 8,9]\n",
        "ele = int(input(\"Please enter the element: \"))\n",
        "\n",
        "while ele in lis:\n",
        "    lis.remove(ele)\n",
        "\n",
        "print(lis)\n"
      ],
      "metadata": {
        "colab": {
          "base_uri": "https://localhost:8080/"
        },
        "id": "d7mefXAXHb9t",
        "outputId": "525463be-d44e-4fcc-b60c-a5ae2f476a71"
      },
      "execution_count": 13,
      "outputs": [
        {
          "output_type": "stream",
          "name": "stdout",
          "text": [
            "Please enter the element: 9\n",
            "[1, 2, 3, 4, 5, 6, 7, 8]\n"
          ]
        }
      ]
    },
    {
      "cell_type": "code",
      "source": [
        "#12.Implement a code to find the second largest number in a given list of integers\u0012\n",
        "lis = [31, 22, 83, 94, 45,19, 76, 7, 78, 89]\n",
        "lis.sort()\n",
        "print(lis[-2])"
      ],
      "metadata": {
        "colab": {
          "base_uri": "https://localhost:8080/"
        },
        "id": "B4vHVEozKQFa",
        "outputId": "65901f3a-7737-45a2-8a9a-22402b814a89"
      },
      "execution_count": 14,
      "outputs": [
        {
          "output_type": "stream",
          "name": "stdout",
          "text": [
            "89\n"
          ]
        }
      ]
    },
    {
      "cell_type": "code",
      "source": [
        " #13. Create a code to count the occurrences of each element in a list and return a dictionary with elements as\n",
        " #keys and their counts as values\n",
        "\n",
        " lis = [1, 2, 3, 4, 5,9, 6, 7,3,4,5,6,7,8,3,45,2,3,6,8,9]\n",
        " dic={}\n",
        "\n",
        " for element in lis:\n",
        "  if element in dic:\n",
        "    dic[element]=dic[element]+1\n",
        "  else:\n",
        "    dic[element]=1\n",
        "\n",
        "print(dic)"
      ],
      "metadata": {
        "colab": {
          "base_uri": "https://localhost:8080/"
        },
        "id": "yb96sZ7zKjgu",
        "outputId": "bb2a4386-df60-4508-fe9c-4d652b1c7d87"
      },
      "execution_count": 17,
      "outputs": [
        {
          "output_type": "stream",
          "name": "stdout",
          "text": [
            "{1: 1, 2: 2, 3: 4, 4: 2, 5: 2, 9: 2, 6: 3, 7: 2, 8: 2, 45: 1}\n"
          ]
        }
      ]
    },
    {
      "cell_type": "code",
      "source": [
        "#14. Write a code to reverse a list in-place without using any built-in reverse functions\u0012\n",
        "\n",
        "lis=[1,2,3,4,5,6,7,8,9]\n",
        "lis1=lis[::-1]\n",
        "print(lis1)"
      ],
      "metadata": {
        "colab": {
          "base_uri": "https://localhost:8080/"
        },
        "id": "GfPq6Gb5Nqkz",
        "outputId": "b254f4c2-5e66-4c33-8a78-e55732f0a288"
      },
      "execution_count": 21,
      "outputs": [
        {
          "output_type": "stream",
          "name": "stdout",
          "text": [
            "[9, 8, 7, 6, 5, 4, 3, 2, 1]\n"
          ]
        }
      ]
    },
    {
      "cell_type": "code",
      "source": [
        "\n",
        "#15. Implement a code to find and remove duplicates from a list while preserving the original order of\n",
        "#elements\u0012\n",
        "list1 = [1, 2, 3, 4, 5, 5, 2, 1, 2]\n",
        "list2 = list1.copy()\n",
        "result = []\n",
        "\n",
        "for item in list2:\n",
        "    if item not in result:\n",
        "        result.append(item)\n",
        "\n",
        "print(result)\n"
      ],
      "metadata": {
        "colab": {
          "base_uri": "https://localhost:8080/"
        },
        "id": "KmZ49owvN7qd",
        "outputId": "6eafb524-8e29-4a0f-d931-7afd3e20910a"
      },
      "execution_count": 33,
      "outputs": [
        {
          "output_type": "stream",
          "name": "stdout",
          "text": [
            "[1, 2, 3, 4, 5]\n"
          ]
        }
      ]
    },
    {
      "cell_type": "code",
      "source": [
        "#16\u0012 Create a code to check if a given list is sorted (either in ascending or descending order) or not\n",
        "lis=[1,2,3,4,5,6,8,9,10]\n",
        "if (sorted(lis)==lis):\n",
        "    print(\"list is sorted in ascending order\")\n",
        "elif (sorted(lis)==lis[::-1]):\n",
        "    print(\"list is sorted in descending order\")\n",
        "else:\n",
        "    print(\"not sorted\")"
      ],
      "metadata": {
        "colab": {
          "base_uri": "https://localhost:8080/"
        },
        "id": "c9orJ-MvRyYT",
        "outputId": "734fca60-3e6c-4a67-8e1b-14812cc2e33e"
      },
      "execution_count": 6,
      "outputs": [
        {
          "output_type": "stream",
          "name": "stdout",
          "text": [
            "list is sorted in ascending order\n"
          ]
        }
      ]
    },
    {
      "cell_type": "code",
      "source": [
        "#17.Write a code to merge two sorted lists into a single sorted list\n",
        "a = list(map(int, input(\"Enter the first list (space-separated): \").split()))\n",
        "b = list(map(int, input(\"Enter the second list (space-separated): \").split()))\n",
        "c=sorted(a)+(sorted(b))\n",
        "print(c)\n"
      ],
      "metadata": {
        "colab": {
          "base_uri": "https://localhost:8080/"
        },
        "id": "_KwN749fRrXW",
        "outputId": "52fb2ade-303b-4b40-88db-00d216396449"
      },
      "execution_count": 9,
      "outputs": [
        {
          "output_type": "stream",
          "name": "stdout",
          "text": [
            "Enter the first list (space-separated): 1 2 3 4 5 6 7 78 \n",
            "Enter the second list (space-separated): 23 45 67 89 1 2 3 \n",
            "[1, 2, 3, 4, 5, 6, 7, 78, 1, 2, 3, 23, 45, 67, 89]\n"
          ]
        }
      ]
    },
    {
      "cell_type": "code",
      "source": [
        "#18. Implement a code to find the intersection of two given lists\n",
        "a=[1,2,3,4,5,6]\n",
        "b=[5,6,7,8,9,10]\n",
        "intersection= set(a) & set(b)\n",
        "print(intersection)"
      ],
      "metadata": {
        "colab": {
          "base_uri": "https://localhost:8080/"
        },
        "id": "pZukMoNpQtna",
        "outputId": "8536ddc7-f47a-455c-f136-d6670d21fac9"
      },
      "execution_count": 11,
      "outputs": [
        {
          "output_type": "stream",
          "name": "stdout",
          "text": [
            "{5, 6}\n"
          ]
        }
      ]
    },
    {
      "cell_type": "code",
      "source": [
        "#19. Create a code to find the union of two lists without duplicates\n",
        "lis1=[1,2,3,4,5]\n",
        "lis2=[4,5,6,7,8]\n",
        "union=set(lis1) | set(lis2)\n",
        "print(union)\n"
      ],
      "metadata": {
        "colab": {
          "base_uri": "https://localhost:8080/"
        },
        "id": "OXKqqw-1Vx-R",
        "outputId": "93faa7fd-e0f3-4f6d-934a-1d7023bddd47"
      },
      "execution_count": 12,
      "outputs": [
        {
          "output_type": "stream",
          "name": "stdout",
          "text": [
            "{1, 2, 3, 4, 5, 6, 7, 8}\n"
          ]
        }
      ]
    },
    {
      "cell_type": "code",
      "source": [
        "#20.Write a code to shuffle a given list randomly without using any built-in shuffle functions\n",
        "import random\n",
        "\n",
        "lst = list(map(int, input(\"Enter the list (space-separated): \").split()))\n",
        "n = len(lst)\n",
        "\n",
        "for i in range(n - 1, 0, -1):\n",
        "    j = random.randint(0, i)\n",
        "    lst[i], lst[j] = lst[j], lst[i]\n",
        "\n",
        "print(\"Shuffled list:\", lst)\n"
      ],
      "metadata": {
        "colab": {
          "base_uri": "https://localhost:8080/"
        },
        "id": "If-19FgHYbjb",
        "outputId": "8bd0ca78-e3a3-455a-9307-edf5678914e8"
      },
      "execution_count": 19,
      "outputs": [
        {
          "output_type": "stream",
          "name": "stdout",
          "text": [
            "Enter the list (space-separated): 1 2 3 4 5 6 7 8 9 10\n",
            "Shuffled list: [2, 10, 9, 3, 5, 7, 4, 8, 1, 6]\n"
          ]
        }
      ]
    },
    {
      "cell_type": "code",
      "source": [
        "#21 Write a code that takes two tuples as input and returns a new tuple containing elements that are\n",
        "#common to both input tuples\u0012\n",
        "\n",
        "def common_elements(tuple1, tuple2):\n",
        "\n",
        "    return tuple(set(tuple1) & set(tuple2))\n",
        "\n",
        "tuple1 = tuple(map(int, input(\"Enter the first tuple elements separated by spaces: \").split()))\n",
        "tuple2 = tuple(map(int, input(\"Enter the second tuple elements separated by spaces: \").split()))\n",
        "\n",
        "result = common_elements(tuple1, tuple2)\n",
        "print(\"Common elements tuple:\", result)\n"
      ],
      "metadata": {
        "colab": {
          "base_uri": "https://localhost:8080/"
        },
        "id": "rhAVOQoxcKRp",
        "outputId": "4a63233f-0b50-42ef-b170-e10c2949a57b"
      },
      "execution_count": 1,
      "outputs": [
        {
          "output_type": "stream",
          "name": "stdout",
          "text": [
            "Enter the first tuple elements separated by spaces: 1 2 3 4 5\n",
            "Enter the second tuple elements separated by spaces: 5 6 7 8 9 \n",
            "Common elements tuple: (5,)\n"
          ]
        }
      ]
    },
    {
      "cell_type": "code",
      "source": [
        "#22 Create a code that prompts the user to enter two sets of integers separated by commas. Then, print the\n",
        "#intersection of these two sets\n",
        "\n",
        "set1 = set(map(int, input(\"Enter the first set of integers separated by commas: \").split(',')))\n",
        "set2 = set(map(int, input(\"Enter the second set of integers separated by commas: \").split(',')))\n",
        "\n",
        "\n",
        "intersection = set1 & set2\n",
        "\n",
        "\n",
        "print(\"Intersection of the two sets:\", intersection)\n"
      ],
      "metadata": {
        "colab": {
          "base_uri": "https://localhost:8080/"
        },
        "id": "76VfIqQ9Qbi7",
        "outputId": "f1092142-90b4-42e3-c806-f63ecd01c80b"
      },
      "execution_count": 2,
      "outputs": [
        {
          "output_type": "stream",
          "name": "stdout",
          "text": [
            "Enter the first set of integers separated by commas: 2,4,5,6,7\n",
            "Enter the second set of integers separated by commas: 3,4,5,6,8,9\n",
            "Intersection of the two sets: {4, 5, 6}\n"
          ]
        }
      ]
    },
    {
      "cell_type": "code",
      "source": [
        "#23.\u0012 Write a code to concatenate two tuples. The function should take two tuples as input and return a new\n",
        "#tuple containing elements from both input tuples.\n",
        "\n",
        "tuple1 = tuple(map(int, input(\"Enter the first tuple elements separated by spaces: \").split()))\n",
        "tuple2 = tuple(map(int, input(\"Enter the second tuple elements separated by spaces: \").split()))\n",
        "\n",
        "concatenated_tuple = tuple1 + tuple2\n",
        "\n",
        "\n",
        "print(\"Concatenated tuple:\", concatenated_tuple)\n"
      ],
      "metadata": {
        "collapsed": true,
        "id": "5cu-b9DYQvVI"
      },
      "execution_count": null,
      "outputs": []
    },
    {
      "cell_type": "code",
      "source": [
        "#24.Develop a code that prompts the user to input two sets of strings. Then, print the elements that are\n",
        "#present in the first set but not in the second set&\n",
        "set1 = set(input(\"Enter the first set of strings separated by spaces: \").split())\n",
        "set2 = set(input(\"Enter the second set of strings separated by spaces: \").split())\n",
        "\n",
        "difference = set1 - set2\n",
        "print(\"Elements present in the first set but not in the second set:\", difference)\n"
      ],
      "metadata": {
        "colab": {
          "base_uri": "https://localhost:8080/"
        },
        "id": "0fTUewAvPz2f",
        "outputId": "1361d489-35d7-4f40-90fa-94e02f87a7d0"
      },
      "execution_count": 6,
      "outputs": [
        {
          "output_type": "stream",
          "name": "stdout",
          "text": [
            "Enter the first set of strings separated by spaces: cat dog ball rat\n",
            "Enter the second set of strings separated by spaces: cat fish bird air rat\n",
            "Elements present in the first set but not in the second set: {'ball', 'dog'}\n"
          ]
        }
      ]
    },
    {
      "cell_type": "code",
      "source": [
        "#25 Create a code that takes a tuple and two integers as input. The function should return a new tuple\n",
        "#containing elements from the original tuple within the specified range of indices&\n",
        "\n",
        "\n",
        "original_tuple = tuple(map(int, input(\"Enter the elements of the tuple separated by spaces: \").split()))\n",
        "\n",
        "start_index = int(input(\"Enter the starting index: \"))\n",
        "end_index = int(input(\"Enter the ending index: \"))\n",
        "new_tuple = original_tuple[start_index:end_index + 1]\n",
        "print(\"New tuple containing elements within the specified range:\", new_tuple)\n"
      ],
      "metadata": {
        "colab": {
          "base_uri": "https://localhost:8080/"
        },
        "id": "iUtgXTNfSFGc",
        "outputId": "d508d7ce-4409-4f0d-b5fc-3ce2e8d388d2"
      },
      "execution_count": 7,
      "outputs": [
        {
          "output_type": "stream",
          "name": "stdout",
          "text": [
            "Enter the elements of the tuple separated by spaces: 2 3 4 5 6 7 \n",
            "Enter the starting index: 3\n",
            "Enter the ending index: 7\n",
            "New tuple containing elements within the specified range: (5, 6, 7)\n"
          ]
        }
      ]
    },
    {
      "cell_type": "code",
      "source": [
        "#26.Write a code that prompts the user to input two sets of characters. Then, print the union of these two sets\n",
        "\n",
        "set1 = set(input(\"Enter the first set of characters separated by spaces: \").split())\n",
        "set2 = set(input(\"Enter the second set of characters separated by spaces: \").split())\n",
        "union_set = set1 | set2\n",
        "print(\"Union of the two sets:\", union_set)\n",
        "\n"
      ],
      "metadata": {
        "colab": {
          "base_uri": "https://localhost:8080/"
        },
        "id": "79UO8iaoU4sc",
        "outputId": "ca14ce2e-7fbf-4314-86ae-addad1433ca1"
      },
      "execution_count": 8,
      "outputs": [
        {
          "output_type": "stream",
          "name": "stdout",
          "text": [
            "Enter the first set of characters separated by spaces: d f g h\n",
            "Enter the second set of characters separated by spaces: g h j k l\n",
            "Union of the two sets: {'j', 'h', 'l', 'k', 'g', 'f', 'd'}\n"
          ]
        }
      ]
    },
    {
      "cell_type": "code",
      "source": [
        "#27.Develop a code that takes a tuple of integers as input. The function should return the maximum and\n",
        "#minimum values from the tuple using tuple unpacking\n",
        "\n",
        "input_tuple = tuple(map(int, input(\"Enter the elements of the tuple separated by spaces: \").split()))\n",
        "\n",
        "# Find the maximum and minimum values\n",
        "max_val, min_val = max(input_tuple), min(input_tuple)\n",
        "\n",
        "# Print the result\n",
        "print(\"Maximum and minimum values are:\", (max_val, min_val))\n"
      ],
      "metadata": {
        "colab": {
          "base_uri": "https://localhost:8080/"
        },
        "id": "RaFP094pVWa4",
        "outputId": "2766b1f7-9442-4735-9b7e-f9177233286c"
      },
      "execution_count": 9,
      "outputs": [
        {
          "output_type": "stream",
          "name": "stdout",
          "text": [
            "Enter the elements of the tuple separated by spaces: 3 5 6 7 89\n",
            "Maximum and minimum values are: (89, 3)\n"
          ]
        }
      ]
    },
    {
      "cell_type": "code",
      "source": [
        "#28.Create a code that defines two sets of integers. Then, print the union, intersection, and difference of these\n",
        "#two sets\n",
        "\n",
        "set1 = {1, 2, 3, 4, 5}\n",
        "set2 = {4, 5, 6, 7, 8}\n",
        "union_set = set1 | set2\n",
        "intersection_set = set1 & set2\n",
        "difference_set = set1 - set2\n",
        "print(\"Union of the sets:\", union_set)\n",
        "print(\"Intersection of the sets:\", intersection_set)\n",
        "print(\"Difference of the sets (set1 - set2):\", difference_set)\n"
      ],
      "metadata": {
        "colab": {
          "base_uri": "https://localhost:8080/"
        },
        "id": "nsx4EBhQVRKH",
        "outputId": "3887986d-9a62-4640-a5fc-ddbcef4d1180"
      },
      "execution_count": 10,
      "outputs": [
        {
          "output_type": "stream",
          "name": "stdout",
          "text": [
            "Union of the sets: {1, 2, 3, 4, 5, 6, 7, 8}\n",
            "Intersection of the sets: {4, 5}\n",
            "Difference of the sets (set1 - set2): {1, 2, 3}\n"
          ]
        }
      ]
    },
    {
      "cell_type": "code",
      "source": [
        "#29 Write a code that takes a tuple and an element as input. The function should return the count of\n",
        "#occurrences of the given element in the tuple&\n",
        "\n",
        "input_tuple = tuple(map(int, input(\"Enter the elements of the tuple separated by spaces: \").split()))\n",
        "element = int(input(\"Enter the element to count: \"))\n",
        "count = input_tuple.count(element)\n",
        "print(f\"The element {element} occurs {count} times in the tuple.\")\n"
      ],
      "metadata": {
        "colab": {
          "base_uri": "https://localhost:8080/"
        },
        "id": "Kirzd_EiWYWk",
        "outputId": "6d7145cc-26e3-4248-bb30-c8f939e49f9d"
      },
      "execution_count": 11,
      "outputs": [
        {
          "output_type": "stream",
          "name": "stdout",
          "text": [
            "Enter the elements of the tuple separated by spaces: 2 3 4 5 6 7 8 9\n",
            "Enter the element to count: 4 \n",
            "The element 4 occurs 1 times in the tuple.\n"
          ]
        }
      ]
    },
    {
      "cell_type": "code",
      "source": [
        "#30 Develop a code that prompts the user to input two sets of strings. Then, print the symmetric difference of\n",
        "#these two sets\n",
        "input_tuple = tuple(map(int, input(\"Enter the elements of the tuple separated by spaces: \").split()))\n",
        "\n",
        "element = int(input(\"Enter the element to count: \"))\n",
        "count = input_tuple.count(element)\n",
        "print(f\"The element {element} occurs {count} times in the tuple.\")\n"
      ],
      "metadata": {
        "colab": {
          "base_uri": "https://localhost:8080/"
        },
        "id": "lJorrYUtW5Rg",
        "outputId": "c0664aa4-e09d-4c3a-a2c4-f5f472403021"
      },
      "execution_count": 12,
      "outputs": [
        {
          "output_type": "stream",
          "name": "stdout",
          "text": [
            "Enter the elements of the tuple separated by spaces: 5 6 7 8 9\n",
            "Enter the element to count: 4 \n",
            "The element 4 occurs 0 times in the tuple.\n"
          ]
        }
      ]
    },
    {
      "cell_type": "code",
      "source": [
        "#31 & Write a code that takes a list of words as input and returns a dictionary where the keys are unique words\n",
        "#and the values are the frequencies of those words in the input list\n",
        "\n",
        "words_list = input(\"Enter a list of words separated by spaces: \").split()\n",
        "\n",
        "word_freq = {}\n",
        "\n",
        "for word in words_list:\n",
        "    word_freq[word] = word_freq.get(word, 0) + 1\n",
        "print(\"Word frequencies:\", word_freq)\n",
        "\n"
      ],
      "metadata": {
        "colab": {
          "base_uri": "https://localhost:8080/"
        },
        "id": "daeVse_4XduQ",
        "outputId": "d329d595-f1e5-488a-bd52-d36b7c35b4d3"
      },
      "execution_count": 13,
      "outputs": [
        {
          "output_type": "stream",
          "name": "stdout",
          "text": [
            "Enter a list of words separated by spaces: aniqa hussain is a student\n",
            "Word frequencies: {'aniqa': 1, 'hussain': 1, 'is': 1, 'a': 1, 'student': 1}\n"
          ]
        }
      ]
    },
    {
      "cell_type": "code",
      "source": [
        "#32. Write a code that takes two dictionaries as input and merges them into a single dictionary. If there are\n",
        "#common keys, the values should be added together\n",
        "\n",
        "dict1 = eval(input(\"Enter the first dictionary: \"))\n",
        "dict2 = eval(input(\"Enter the second dictionary: \"))\n",
        "merged_dict = dict1.copy()\n",
        "\n",
        "for key, value in dict2.items():\n",
        "    if key in merged_dict:\n",
        "        merged_dict[key] += value\n",
        "    else:\n",
        "        merged_dict[key] = value\n",
        "print(\"Merged Dictionary:\", merged_dict)\n",
        "\n"
      ],
      "metadata": {
        "colab": {
          "base_uri": "https://localhost:8080/"
        },
        "id": "Wnkjer_aX4gS",
        "outputId": "992856e4-fc83-4c00-b96f-e6454e114f96"
      },
      "execution_count": 16,
      "outputs": [
        {
          "output_type": "stream",
          "name": "stdout",
          "text": [
            "Enter the first dictionary: {'a': 1, 'b': 2, 'c': 3}\n",
            "Enter the second dictionary: {'b': 3, 'c': 1, 'd': 4}\n",
            "Merged Dictionary: {'a': 1, 'b': 5, 'c': 4, 'd': 4}\n"
          ]
        }
      ]
    },
    {
      "cell_type": "code",
      "source": [
        "#33. & Write a code to access a value in a nested dictionary. The function should take the dictionary and a list of\n",
        "#keys as input, and return the corresponding value. If any of the keys do not exist in the dictionary, the\n",
        "#function should return None\n",
        "\n",
        "def get_nested_value(d, keys):\n",
        "\n",
        "    for key in keys:\n",
        "        if key in d:\n",
        "            d = d[key]\n",
        "        else:\n",
        "            return None\n",
        "    return d\n",
        "\n",
        "\n",
        "nested_dict = {\n",
        "    'a': {\n",
        "        'b': {\n",
        "            'c': 5\n",
        "        }\n",
        "    }\n",
        "}\n",
        "\n",
        "\n",
        "keys = input(\"Enter the list of keys separated by spaces: \").split()\n",
        "\n",
        "# keys to appropriate types (assuming they are strings)\n",
        "keys = [key for key in keys]\n",
        "\n",
        "# Get the value from the nested dictionary\n",
        "result = get_nested_value(nested_dict, keys)\n",
        "\n",
        "# Print the result\n",
        "print(\"The value is:\", result)\n"
      ],
      "metadata": {
        "colab": {
          "base_uri": "https://localhost:8080/"
        },
        "id": "KhQ2WicLYRN-",
        "outputId": "f61377c2-f403-4329-db1e-17a93f910101"
      },
      "execution_count": 19,
      "outputs": [
        {
          "output_type": "stream",
          "name": "stdout",
          "text": [
            "Enter the list of keys separated by spaces: a x c\n",
            "The value is: None\n"
          ]
        }
      ]
    },
    {
      "cell_type": "code",
      "source": [
        "#34.Write a code that takes a dictionary as input and returns a sorted version of it based on the values. You\n",
        "#can choose whether to sort in ascending or descending order\n",
        "def sort_dict_by_value(d, order='ascending'):\n",
        "    # Sort the dictionary based on values and return a sorted dictionary\n",
        "    sorted_dict = dict(sorted(d.items(), key=lambda item: item[1], reverse=(order == 'descending')))\n",
        "    return sorted_dict\n",
        "\n",
        "# Input the dictionary\n",
        "input_dict = eval(input(\"Enter a dictionary: \"))\n",
        "\n",
        "# Input the sorting order\n",
        "order = input(\"Enter sorting order (ascending/descending): \").strip().lower()\n",
        "\n",
        "# Get the sorted dictionary\n",
        "sorted_dict = sort_dict_by_value(input_dict, order)\n",
        "\n",
        "# Print the sorted dictionary\n",
        "print(\"Sorted Dictionary:\", sorted_dict)\n"
      ],
      "metadata": {
        "colab": {
          "base_uri": "https://localhost:8080/"
        },
        "id": "By-XWpSDYRXD",
        "outputId": "b9eb0851-590f-4570-c7c0-c64dd3b41e47"
      },
      "execution_count": 22,
      "outputs": [
        {
          "output_type": "stream",
          "name": "stdout",
          "text": [
            "Enter a dictionary: {'a': 3, 'b': 1, 'c': 2}\n",
            "Enter sorting order (ascending/descending): ascending\n",
            "Sorted Dictionary: {'b': 1, 'c': 2, 'a': 3}\n"
          ]
        }
      ]
    },
    {
      "cell_type": "code",
      "source": [
        "#35.Write a code that inverts a dictionary, swapping keys and values. Ensure that the inverted dictionary\n",
        "#correctly handles cases where multiple keys have the same value by storing the keys as a list in the\n",
        "#inverted dictionary\n",
        "\n",
        "def invert_dict(d):\n",
        "    inverted_dict = {}\n",
        "    for key, value in d.items():\n",
        "        if value in inverted_dict:\n",
        "            inverted_dict[value].append(key)  # Append the key to the list if value already exists\n",
        "        else:\n",
        "            inverted_dict[value] = [key]  # Create a new list with the key if value is not in inverted_dict\n",
        "    return inverted_dict\n",
        "\n",
        "# Input the dictionary\n",
        "input_dict = eval(input(\"Enter a dictionary: \"))\n",
        "\n",
        "# Invert the dictionary\n",
        "inverted_dict = invert_dict(input_dict)\n",
        "\n",
        "# Print the inverted dictionary\n",
        "print(\"Inverted Dictionary:\", inverted_dict)\n"
      ],
      "metadata": {
        "colab": {
          "base_uri": "https://localhost:8080/"
        },
        "id": "g48ioWLla-Ii",
        "outputId": "05b571c2-cf87-461d-9f90-29f2eb5997f6"
      },
      "execution_count": 23,
      "outputs": [
        {
          "output_type": "stream",
          "name": "stdout",
          "text": [
            "Enter a dictionary: {'a': 1, 'b': 2, 'c': 3}\n",
            "Inverted Dictionary: {1: ['a'], 2: ['b'], 3: ['c']}\n"
          ]
        }
      ]
    }
  ]
}